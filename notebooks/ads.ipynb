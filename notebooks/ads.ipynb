{
 "cells": [
  {
   "cell_type": "markdown",
   "metadata": {},
   "source": [
    "# ADS Independent citation counter\n",
    "\n",
    "In this notebook, I query ADS for independent citations to all of my peer-reviewed publications. I do this by looping over all refereed papers and excluding all authors of that paper from the query. We match on the last name and initials (as does ADS) and use ORCID iD for cross-checking whenever available."
   ]
  },
  {
   "cell_type": "code",
   "execution_count": 1,
   "metadata": {},
   "outputs": [
    {
     "name": "stdout",
     "output_type": "stream",
     "text": [
      "Mon Aug 23 09:45:46 EDT 2021\n"
     ]
    }
   ],
   "source": [
    "! date"
   ]
  },
  {
   "cell_type": "code",
   "execution_count": 2,
   "metadata": {},
   "outputs": [],
   "source": [
    "import requests, json\n",
    "from collections import Counter\n",
    "from getpass import getpass"
   ]
  },
  {
   "cell_type": "markdown",
   "metadata": {},
   "source": [
    "#### Enter your API key below. \n",
    "\n",
    "To obtain an API key, you need to be logged in to your ADS account. Sign up for one with your email if you have never logged in. Go to **Account** > **Settings** > **API token** and copy your unique 40-character API key and enter when prompted. Note that your key is not stored encrypted, therefore printing the variables `token` or `headers` variable will reveal your key."
   ]
  },
  {
   "cell_type": "code",
   "execution_count": 3,
   "metadata": {},
   "outputs": [
    {
     "name": "stdin",
     "output_type": "stream",
     "text": [
      "Enter your 40-character ADS API key:  ········································\n"
     ]
    }
   ],
   "source": [
    "## Configuration\n",
    "token = getpass(\"Enter your 40-character ADS API key: \")\n",
    "headers={'Authorization': 'Bearer ' + token}\n",
    "\n",
    "check_orcid = True\n",
    "verbose = False  # Set it to True if you want lengthy outputs"
   ]
  },
  {
   "cell_type": "code",
   "execution_count": 4,
   "metadata": {},
   "outputs": [],
   "source": [
    "## Define a convenience function to standardize the names\n",
    "def standardize_names(name):\n",
    "    if not \",\" in name:\n",
    "        return name\n",
    "    try:\n",
    "        lastname, firstname = name.split(',')\n",
    "        initial = firstname[1]\n",
    "        return f\"{lastname},+{initial}\"\n",
    "    except:\n",
    "        # This usually happens for collaboration papers\n",
    "        print(f\"Cannot split '{name}' into first and last names!\")\n",
    "        return name"
   ]
  },
  {
   "cell_type": "markdown",
   "metadata": {},
   "source": [
    "First, query for all refereed papers authored by Kannawadi, Arun"
   ]
  },
  {
   "cell_type": "code",
   "execution_count": 5,
   "metadata": {
    "scrolled": true
   },
   "outputs": [
    {
     "name": "stdout",
     "output_type": "stream",
     "text": [
      "URL = https://api.adsabs.harvard.edu/v1/search/query?q=author%3AKannawadi,+A&fq=property%3Aarticle&fl=author,title,bibcode,citation_count,orcid_pub,orcid_user,orcid_other,property&rows=500\n",
      "\n",
      "CPU times: user 26.7 ms, sys: 8.36 ms, total: 35.1 ms\n",
      "Wall time: 684 ms\n"
     ]
    }
   ],
   "source": [
    "%%time\n",
    "author=standardize_names('Kannawadi, Arun')\n",
    "\n",
    "base_url = \"https://api.adsabs.harvard.edu/v1/search/query?\"\n",
    "fq = \"property%3Arefereed+property%3Aarticle\"\n",
    "fq = \"property%3Aarticle\"\n",
    "fl = \"author,title,bibcode,citation_count,orcid_pub,orcid_user,orcid_other,property\"\n",
    "rows = 500\n",
    "\n",
    "# the query parameters can be included as part of the URL\n",
    "url = f\"{base_url}q=author%3A{author}&fq={fq}&fl={fl}&rows={rows}\"\n",
    "print(f\"URL = {url}\\n\")\n",
    "r = requests.get(url, headers=headers)\n",
    "# the requests package returns an object; to get just the JSON API response, you have to specify this\n",
    "js = r.json()\n",
    "publications = js['response']['docs']"
   ]
  },
  {
   "cell_type": "code",
   "execution_count": 6,
   "metadata": {
    "tags": []
   },
   "outputs": [
    {
     "name": "stdout",
     "output_type": "stream",
     "text": [
      "Complete list of queried papers\n",
      "\t   Bibcode       #Cites \t Title\n",
      "\n",
      "2020A&A...633A..69H \t 195 \t KiDS+VIKING-450: Cosmic shear tomography with optical and infrared data\n",
      "2021A&A...646A.140H \t 125 \t KiDS-1000 Cosmology: Multi-probe weak gravitational lensing and spectroscopic galaxy clustering constraints\n",
      "2014ApJS..212....5M \t 120 \t The Third Gravitational Lensing Accuracy Testing (GREAT3) Challenge Handbook\n",
      "2021A&A...645A.104A \t 113 \t KiDS-1000 cosmology: Cosmic shear constraints and comparison between two point statistics\n",
      "2020A&A...638L...1J \t 93 \t KiDS+VIKING-450 and DES-Y1 combined: Cosmology with cosmic shear\n",
      "2020A&A...634A.127A \t 61 \t KiDS+VIKING-450 and DES-Y1 combined: Mitigating baryon feedback uncertainty with COSEBIs\n",
      "2020A&A...633L..10T \t 58 \t Cosmology from large-scale structure. Constraining ΛCDM with BOSS\n",
      "2019A&A...624A..92K \t 42 \t Towards emulating cosmic shear data: revisiting the calibration of the shear measurements for the Kilo-Degree Survey\n",
      "2021A&A...646A.129J \t 34 \t KiDS-1000 methodology: Modelling and inference for joint weak gravitational lensing and spectroscopic galaxy clustering analysis\n",
      "2018MNRAS.481.1337H \t 29 \t Cosmological simulations for combined-probe analyses: covariance and neighbour-exclusion bias\n",
      "2020A&A...640L..14W \t 29 \t KiDS+VIKING-450: Improved cosmological parameter constraints from redshift calibration with self-organising maps\n",
      "2021A&A...645A.105G \t 28 \t KiDS-1000 catalogue: Weak gravitational lensing shear measurements\n",
      "2021A&A...647A.124H \t 26 \t KiDS-1000 catalogue: Redshift distributions and their calibration\n",
      "2018MNRAS.477.4285A \t 22 \t KiDS-i-800: comparing weak gravitational lensing measurements from same-sky surveys\n",
      "2021A&A...649A..88T \t 24 \t KiDS-1000 Cosmology: Constraints beyond flat ΛCDM\n",
      "2016PASP..128i5001K \t 14 \t The Impact of Interpixel Capacitance in CMOS Detectors on PSF Shapes and Implications for WFIRST\n",
      "2019A&A...622A..90G \t 13 \t The dependence of intrinsic alignment of galaxies on wavelength using KiDS and GAMA\n",
      "2019MNRAS.487.3715V \t 11 \t Luminous red galaxies in the Kilo-Degree Survey: selection with broad-band photometry and weak lensing measurements\n",
      "2020A&A...642A.158B \t 13 \t Testing gravity using galaxy-galaxy lensing and clustering amplitudes in KiDS-1000, BOSS, and 2dFLenS\n",
      "2020A&A...633A..89X \t 8 \t A gravitational lensing detection of filamentary structures connecting luminous red galaxies\n",
      "2016PASP..128j4001P \t 10 \t The Effect of Detector Nonlinearity on WFIRST PSF Profiles for Weak Gravitational Lensing Measurements\n",
      "2015MNRAS.449.3597K \t 9 \t The impact of cosmic variance on simulating weak lensing surveys\n",
      "2020A&A...635A.139E \t 9 \t Euclid preparation. VI. Verifying the performance of cosmic shear experiments\n",
      "2020arXiv200813154V \t 8 \t Clustering of red-sequence galaxies in the fourth data release ofthe Kilo-Degree Survey\n",
      "2020A&A...642A..83D \t 6 \t KiDS+GAMA: The weak lensing calibrated stellar-to-halo mass relation of central and satellite galaxies\n",
      "2021A&A...649A.146R \t 5 \t Strong detection of the CMB lensing and galaxy weak lensing cross-correlation from ACT-DR4, Planck Legacy, and KiDS-1000\n",
      "2021arXiv210207701Y \t 5 \t Probing galaxy bias and intergalactic gas pressure with KiDS Galaxies-tSZ-CMB lensing cross-correlations\n",
      "2021A&A...649A..81N \t 4 \t Photometric selection and redshifts for quasars in the Kilo-Degree Survey Data Release 4\n",
      "2021arXiv210106010B \t 3 \t Bright galaxy sample in the Kilo-Degree Survey Data Release 4: selection, photometric redshifts, and physical properties\n",
      "2021A&A...646A..73S \t 3 \t Tightening weak lensing constraints on the ellipticity of galaxy-scale dark matter haloes\n",
      "2016EL....11557005K \t 3 \t Persistent entanglement in a class of eigenstates of quantum Heisenberg spin glasses\n",
      "2020A&A...640A..59L \t 3 \t KiDS+VIKING+GAMA: Testing semi-analytic models of galaxy evolution with galaxy-galaxy-galaxy lensing\n",
      "2021A&A...650A.113B \t 3 \t The weak lensing radial acceleration relation: Constraining modified gravity and cold dark matter theories with KiDS-1000\n",
      "2021arXiv210509545R \t 2 \t Geometry vs growth: Internal consistency of the flat {\\Lambda}CDM model with KiDS-1000\n",
      "2021MNRAS.502.4048K \t 1 \t Mitigating the effects of undersampling in weak lensing shear estimation with metacalibration\n",
      "2020A&A...638C...2E \t 1 \t Euclid preparation. VI. Verifying the Performance of Cosmic Shear Experiments (Corrigendum)\n",
      "2021A&A...646A.124H \t 1 \t Accounting for object detection bias in weak gravitational lensing studies\n",
      "2021arXiv210700136L \t 1 \t The three-year shear catalog of the Subaru Hyper Suprime-Cam SSP Survey\n",
      "2021A&A...646A.175L \t 1 \t KiDS+VIKING-450: An internal-consistency test for cosmic shear tomography with a colour-based split of source galaxies\n",
      "2021A&A...651A..76Y \t 0 \t Probing galaxy bias and intergalactic gas pressure with KiDS Galaxies-tSZ-CMB lensing cross-correlations\n",
      "2021A&A...647A.185G \t 0 \t Halo shapes constrained from a pure sample of central galaxies in KiDS-1000\n",
      "\n",
      "Total number of citations =  1136\n"
     ]
    }
   ],
   "source": [
    "## Print the complete list of queried papers\n",
    "print(\"Complete list of queried papers\")\n",
    "print(\"\\t   Bibcode       #Cites \\t Title\\n\")\n",
    "citation_counts = 0\n",
    "for paper in publications:\n",
    "    print(paper['bibcode'], '\\t', paper['citation_count'], '\\t', paper['title'][0])\n",
    "    citation_counts += paper['citation_count']\n",
    "print(\"\\nTotal number of citations = \", citation_counts)"
   ]
  },
  {
   "cell_type": "code",
   "execution_count": 7,
   "metadata": {
    "tags": []
   },
   "outputs": [],
   "source": [
    "## Ensure that the Orcid iDs are consistent and create a single orcid key per author\n",
    "for paper in publications:\n",
    "    nauth = len(paper['author'])\n",
    "    paper['orcid'] = []\n",
    "    for aid in range(nauth):\n",
    "        orcid = (paper['orcid_pub'][aid], paper.get('orcid_user','-'*nauth)[aid], paper.get('orcid_other','-'*nauth)[aid])\n",
    "        orcid = [orc for orc in orcid if orc!='-']\n",
    "        if len(orcid):\n",
    "            all((orc==orcid[0] for orc in orcid))\n",
    "            paper['orcid'].append(orcid[0])\n",
    "        else:\n",
    "            paper['orcid'].append('-')\n",
    "        if verbose:\n",
    "            print(paper['author'][aid], paper['orcid_pub'][aid], paper.get('orcid_user','-'*nauth)[aid], paper.get('orcid_other','-'*nauth)[aid])\n",
    "            print(paper['author'][aid], paper.get('orcid')[aid])\n"
   ]
  },
  {
   "cell_type": "markdown",
   "metadata": {},
   "source": [
    "This would have been an excellent exercise to use a mini database, with a Publications table and an Authors table. But for my purpose, this seemed like an overkill and I use basic Python structures like `dict` and `list`."
   ]
  },
  {
   "cell_type": "code",
   "execution_count": 8,
   "metadata": {
    "tags": []
   },
   "outputs": [],
   "source": [
    "## Obtain the complete list of co-authors (including self), along with their unique ORCID iDs.\n",
    "coauthors = {}\n",
    "for paper in publications:\n",
    "    for auth, orc in zip(paper['author'], paper['orcid']):\n",
    "        std_name = standardize_names(auth)\n",
    "        coauthors[std_name] = orc if orc!='-' else coauthors.get(std_name, None)\n",
    "if verbose:\n",
    "    print(\"\\nName of the co-authors \\t\\t ORCID iD \\n \")\n",
    "    for coauth in sorted(coauthors.keys()):\n",
    "        print(coauth, '\\t\\t', coauthors[coauth])"
   ]
  },
  {
   "cell_type": "markdown",
   "metadata": {},
   "source": [
    "Unfortunately, many of my co-authors have not provided their ORCID iD. We will have to find common authors by name. ORCID iD will only serve as further validation where applicable."
   ]
  },
  {
   "cell_type": "code",
   "execution_count": 9,
   "metadata": {},
   "outputs": [
    {
     "name": "stdout",
     "output_type": "stream",
     "text": [
      "The following authors have the same last name:\n",
      "Choi,+A \t None\n",
      "Armstrong,+B \t None\n",
      "Taylor,+A \t None\n",
      "Taylor,+E \t 0000-0002-5522-9107\n",
      "Choi,+S \t None\n",
      "Li,+X \t None\n",
      "Armstrong,+R \t None\n",
      "Li,+S \t 0000-0001-9952-7408\n"
     ]
    }
   ],
   "source": [
    "print(\"The following authors have the same last name:\")\n",
    "cntr = Counter([name.split(',')[0] for name in coauthors.keys()])\n",
    "for coauth in coauthors:\n",
    "    if cntr[coauth.split(',')[0]] > 1:\n",
    "        print(coauth, '\\t', coauthors[coauth])"
   ]
  },
  {
   "cell_type": "markdown",
   "metadata": {},
   "source": [
    "Define an empty dictionary to contain the number of independent citations. Loop over the above publications, query the independent citations and count them."
   ]
  },
  {
   "cell_type": "code",
   "execution_count": 10,
   "metadata": {},
   "outputs": [
    {
     "name": "stdout",
     "output_type": "stream",
     "text": [
      "CPU times: user 745 ms, sys: 60 ms, total: 805 ms\n",
      "Wall time: 11.8 s\n"
     ]
    }
   ],
   "source": [
    "%%time\n",
    "fq = \"property%3Aarticle\"\n",
    "fl = \"author,title,bibcode\"\n",
    "rows = 500\n",
    "for eid, entity in enumerate(js['response']['docs']):\n",
    "    independent_authors, independent_orcid = [], []\n",
    "    bibcode = entity['bibcode'].replace('&','%26')\n",
    "    condition = ''\n",
    "    for auth in entity['author']:\n",
    "        name = standardize_names(auth)\n",
    "        if name is None: continue\n",
    "        condition+= f\"+-author:%22{name}%22\"\n",
    "    url = f\"{base_url}q=citations(bibcode%3A{bibcode}){condition}&fq={fq}&fl={fl}&rows={rows}\"\n",
    "    r = requests.get(url, headers=headers)\n",
    "    jstmp = r.json()\n",
    "    independent_authors += [standardize_names(paper['author']) for paper in jstmp['response']['docs']]\n",
    "    nauth = len(entity['author'])\n",
    "    if check_orcid:\n",
    "        # Get all coauthor orcid ids\n",
    "        coauthor_orcid = entity.get('orcid_pub',['-'])+entity.get('orcid_user',['-'])+entity.get('orcid_other',['-'])\n",
    "        for cite in jstmp['response']['docs']:\n",
    "            independent_orcid += cite.get('orcid_user',['-'])+cite.get('orcid_pub',['-'])+cite.get('orcid_other',['-'])\n",
    "\n",
    "        independent_orcid = set(independent_orcid)\n",
    "        coauthor_orcid = set(coauthor_orcid)\n",
    "        assert(independent_orcid.intersection(coauthor_orcid).issubset({'-'}))\n",
    "\n",
    "    js['response']['docs'][eid]['independent_citation_count'] = jstmp['response']['numFound']"
   ]
  },
  {
   "cell_type": "code",
   "execution_count": 11,
   "metadata": {
    "tags": []
   },
   "outputs": [],
   "source": [
    "## Print the complete list of queried papers, with independent citations counts for each\n",
    "def print_independent_citation_counts(refereed_only=True, verbose=False, topn=1000):\n",
    "    print(\"Complete list of queried papers\")\n",
    "    print(\"\\t   Bibcode       #Cites #Independent cites \\t Title\\n\")\n",
    "    citation_counts, independent_citation_counts = 0, 0\n",
    "    kids_citation_counts = 0\n",
    "    for paper in publications[:topn]:\n",
    "        if refereed_only and 'NOT REFEREED' in paper['property']:\n",
    "            continue\n",
    "        if verbose:\n",
    "            print(paper['bibcode'], '\\t', paper['citation_count'], paper['independent_citation_count'], '\\t', paper['title'][0])\n",
    "        citation_counts += paper['citation_count']\n",
    "        independent_citation_counts += paper['independent_citation_count']\n",
    "        if 'kids' in paper['title'][0].lower():\n",
    "            kids_citation_counts += paper['independent_citation_count']\n",
    "    print(\"\\nTotal number of citations = \", citation_counts)\n",
    "    print(\"\\nTotal number of independent citations = \", independent_citation_counts)\n",
    "    print(\"\\nTotal number of independent citations from KiDS papers = \", kids_citation_counts)\n",
    "    return independent_citation_counts"
   ]
  },
  {
   "cell_type": "code",
   "execution_count": 12,
   "metadata": {},
   "outputs": [
    {
     "name": "stdout",
     "output_type": "stream",
     "text": [
      "Complete list of queried papers\n",
      "\t   Bibcode       #Cites #Independent cites \t Title\n",
      "\n",
      "2020A&A...633A..69H \t 195 123 \t KiDS+VIKING-450: Cosmic shear tomography with optical and infrared data\n",
      "2021A&A...646A.140H \t 125 78 \t KiDS-1000 Cosmology: Multi-probe weak gravitational lensing and spectroscopic galaxy clustering constraints\n",
      "2014ApJS..212....5M \t 120 64 \t The Third Gravitational Lensing Accuracy Testing (GREAT3) Challenge Handbook\n",
      "2021A&A...645A.104A \t 113 86 \t KiDS-1000 cosmology: Cosmic shear constraints and comparison between two point statistics\n",
      "2020A&A...638L...1J \t 93 72 \t KiDS+VIKING-450 and DES-Y1 combined: Cosmology with cosmic shear\n",
      "2020A&A...634A.127A \t 61 36 \t KiDS+VIKING-450 and DES-Y1 combined: Mitigating baryon feedback uncertainty with COSEBIs\n",
      "2020A&A...633L..10T \t 58 39 \t Cosmology from large-scale structure. Constraining ΛCDM with BOSS\n",
      "2019A&A...624A..92K \t 42 15 \t Towards emulating cosmic shear data: revisiting the calibration of the shear measurements for the Kilo-Degree Survey\n",
      "2021A&A...646A.129J \t 34 10 \t KiDS-1000 methodology: Modelling and inference for joint weak gravitational lensing and spectroscopic galaxy clustering analysis\n",
      "2018MNRAS.481.1337H \t 29 12 \t Cosmological simulations for combined-probe analyses: covariance and neighbour-exclusion bias\n",
      "\n",
      "Total number of citations =  870\n",
      "\n",
      "Total number of independent citations =  535\n",
      "\n",
      "Total number of independent citations from KiDS papers =  405\n"
     ]
    }
   ],
   "source": [
    "independent_citation_counts = print_independent_citation_counts(refereed_only=False, verbose=True, topn=10)"
   ]
  },
  {
   "cell_type": "markdown",
   "metadata": {},
   "source": [
    "Voila! We have calculated independent citation counts for each referee publication of mine, and the total number of independent citations."
   ]
  },
  {
   "cell_type": "markdown",
   "metadata": {},
   "source": [
    "#### Now, calculate the citations from one specific author"
   ]
  },
  {
   "cell_type": "code",
   "execution_count": 13,
   "metadata": {},
   "outputs": [],
   "source": [
    "def citations_counts_from(other_author, verbose=False):\n",
    "    \"\"\"\n",
    "    Count the number of citations from a particular author.\n",
    "    \"\"\"\n",
    "    other_author = standardize_names(other_author)\n",
    "    other_citation_count = 0\n",
    "    # https://ui.adsabs.harvard.edu/search/filter_author_facet_hier_fq_author=AND&filter_author_facet_hier_fq_author=author_facet_hier%3A%220%2FTroxel%2C%20M%22&fq=%7B!type%3Daqp%20v%3D%24fq_author%7D&fq_author=(author_facet_hier%3A%220%2FTroxel%2C%20M%22)&q=citations(bibcode%3A2015MNRAS.449.3597K)&sort=date%20desc%2C%20bibcode%20desc&p_=0\n",
    "    fq = \"property%3Aarticle\"\n",
    "    fl = \"author,title,bibcode\"\n",
    "    rows = 500\n",
    "    for eid, entity in enumerate(js['response']['docs']):\n",
    "        independent_authors, independent_orcid = [], []\n",
    "        bibcode = entity['bibcode'].replace('&','%26')\n",
    "        condition = ''\n",
    "        url = (f\"{base_url}filter_author_facet_hier_fq_author=AND&\"\n",
    "                \"filter_author_facet_hier_fq_author=author_facet_hier%3A%220%2F\"\n",
    "                f\"{other_author}&fq=%7B!type%3Daqp%20v%3D%24fq_author%7D&\"\n",
    "                f\"fq_author=(author_facet_hier%3A%220%2F{other_author})&\"\n",
    "                f\"q=citations({bibcode})&sort=date%20desc%2C%20bibcode%20desc&p_=0&rows=500\")\n",
    "        r = requests.get(url, headers=headers)\n",
    "        jstmp = r.json()\n",
    "        if verbose:\n",
    "            print(bibcode, len(jstmp['response']['docs']))\n",
    "        other_citation_count += len(jstmp['response']['docs'])\n",
    "\n",
    "    return other_citation_count\n"
   ]
  },
  {
   "cell_type": "code",
   "execution_count": 14,
   "metadata": {},
   "outputs": [
    {
     "name": "stdout",
     "output_type": "stream",
     "text": [
      "Number of citations from Troxel, M = 105\n"
     ]
    }
   ],
   "source": [
    "other_author = \"Troxel, M\"\n",
    "other_citation_count = citations_counts_from(other_author)\n",
    "print(f\"Number of citations from {other_author} = {other_citation_count}\")"
   ]
  },
  {
   "cell_type": "markdown",
   "metadata": {},
   "source": [
    "## Consistency check\n",
    "\n",
    "If you are the other author, then the citations from you to your papers should match exactly the number of self-citations that is reported in the metrics"
   ]
  },
  {
   "cell_type": "code",
   "execution_count": 15,
   "metadata": {},
   "outputs": [
    {
     "name": "stdout",
     "output_type": "stream",
     "text": [
      "Number of self-citations counted from ADS metrics =  185\n",
      "Number of self-ctiations counted from our loop =  185\n"
     ]
    }
   ],
   "source": [
    "other_citation_count = citations_counts_from(\"Kannawadi, A\")\n",
    "# to pass a dictionary in the request payload, convert it to a string first using the json package\n",
    "payload = {\"bibcodes\": [paper['bibcode'] for paper in publications], \\\n",
    "           \"types\":[\"citation_stats\"], \"histograms\":[\"citations\"]}\n",
    "metrics = requests.post(\"https://api.adsabs.harvard.edu/v1/metrics\", \\\n",
    "                 headers={\"Authorization\": \"Bearer \" + token, \"Content-type\": \"application/json\"}, \\\n",
    "                 data=json.dumps(payload))\n",
    "metrics = metrics.json()\n",
    "print(\"Number of self-citations counted from ADS metrics = \", metrics[\"citation stats\"][\"number of self-citations\"])\n",
    "print(\"Number of self-ctiations counted from our loop = \", other_citation_count)\n",
    "assert metrics[\"citation stats\"][\"number of self-citations\"] == other_citation_count\n"
   ]
  },
  {
   "cell_type": "code",
   "execution_count": null,
   "metadata": {},
   "outputs": [],
   "source": [
    "## Comapre citations to my papers with others\n",
    "\n"
   ]
  },
  {
   "cell_type": "code",
   "execution_count": 16,
   "metadata": {},
   "outputs": [],
   "source": [
    "base_url = \"https://api.adsabs.harvard.edu/v1/search/query?\"\n",
    "fq = \"property%3Arefereed+property%3Aarticle\"\n",
    "#fq = \"property%3Aarticle\"\n",
    "fl = \"date,pubdate,citation_count\"\n",
    "\n",
    "rows = 10 # we are not interested in the actual documents, just the metadata\n",
    "\n",
    "year = \"2019-2020\"\n",
    "min_count, max_count = 0, 9000\n",
    "keyword = \"cosmolog*\"\n",
    "\n",
    "query = f'year%3A{year}%20citation_count%3A0%20AND%20keyword%3A\"{keyword}\"'\n",
    "# the query parameters can be included as part of the URL\n",
    "url = f'{base_url}q={query}&fq={fq}&fl={fl}&rows={rows}'\n",
    "# q=year%3A2019-2020%20AND%20citation_count%3A%5B0%20TO%20192%5D%20AND%20keyword%3A\"cosmolog*\"\n",
    "r = requests.get(url, headers=headers)\n",
    "# the requests package returns an object; to get just the JSON API response, you have to specify this\n",
    "js = r.json()\n",
    "count_bins = [js['response']['numFound']]\n",
    "\n",
    "for count in range(0,500,10):\n",
    "    query = f'year%3A{year}%20citation_count%3A%5B{count+1}%20TO%20{count+10}%5D%20AND%20keyword%3A\"{keyword}\"'\n",
    "    # the query parameters can be included as part of the URL\n",
    "    url = f'{base_url}q={query}&fq={fq}&fl={fl}&rows={rows}'\n",
    "    # q=year%3A2019-2020%20AND%20citation_count%3A%5B0%20TO%20192%5D%20AND%20keyword%3A\"cosmolog*\"\n",
    "    r = requests.get(url, headers=headers)\n",
    "    # the requests package returns an object; to get just the JSON API response, you have to specify this\n",
    "    js = r.json()\n",
    "    count_bins += [ js['response']['numFound'] ]"
   ]
  },
  {
   "cell_type": "code",
   "execution_count": 17,
   "metadata": {},
   "outputs": [
    {
     "data": {
      "image/png": "[encoded data removed]",
      "text/plain": [
       "<Figure size 720x360 with 1 Axes>"
      ]
     },
     "metadata": {
      "needs_background": "light"
     },
     "output_type": "display_data"
    }
   ],
   "source": [
    "import numpy as np\n",
    "import matplotlib\n",
    "%matplotlib inline\n",
    "import matplotlib.pyplot as plt\n",
    "X = range(0, 510, 10)\n",
    "Y = 100*np.cumsum(count_bins)/np.sum(count_bins) \n",
    "plt.figure(figsize=(10,5))\n",
    "plt.plot(X, Y,'o-')\n",
    "for i,(x,y) in enumerate(zip(X,Y)):\n",
    "\tif not i in [0, 5, 10, 15]: continue\n",
    "\tplt.text(x,y,str(round(100-y,1))+'%', ha='left', va='bottom')\n",
    "plt.plot(X[19], Y[19],'s', color='C1')\n",
    "plt.annotate(text=\"KV450\", xy=(X[19], Y[19]), va='top', ha='left', color='C1')\n",
    "plt.xticks(X)\n",
    "plt.xlim([0,250])\n",
    "plt.ylim([0.0,100.0])\n",
    "plt.grid(True, which='major')"
   ]
  }
 ],
 "metadata": {
  "interpreter": {
   "hash": "60cb5b6a0e0a40f12a0b6f394627794b0cb1d66db9335cabc448aaf203ffc8f4"
  },
  "kernelspec": {
   "display_name": "Python 3",
   "language": "python",
   "name": "python3"
  },
  "language_info": {
   "codemirror_mode": {
    "name": "ipython",
    "version": 3
   },
   "file_extension": ".py",
   "mimetype": "text/x-python",
   "name": "python",
   "nbconvert_exporter": "python",
   "pygments_lexer": "ipython3",
   "version": "3.8.5"
  }
 },
 "nbformat": 4,
 "nbformat_minor": 4
}
